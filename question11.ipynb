{
 "cells": [
  {
   "cell_type": "markdown",
   "id": "12f46573-0df1-43ae-8937-b66896ab0b0d",
   "metadata": {},
   "source": [
    "# Notebook for assignment 7"
   ]
  },
  {
   "cell_type": "code",
   "execution_count": 1,
   "id": "f8b452ca-9f62-40e2-ac9a-91a44330ca90",
   "metadata": {
    "tags": []
   },
   "outputs": [
    {
     "data": {
      "text/plain": [
       "5.0"
      ]
     },
     "execution_count": 1,
     "metadata": {},
     "output_type": "execute_result"
    }
   ],
   "source": [
    "def compute_mean(numeric_vector):\n",
    "    running_sum = 0.0\n",
    "    num_entries = 0\n",
    "    for i in numeric_vector:\n",
    "        num_entries = num_entries + 1\n",
    "        running_sum = running_sum + i\n",
    "    local_average = running_sum / num_entries\n",
    "    return local_average\n",
    "\n",
    "compute_mean([2, 4, 6, 8])"
   ]
  },
  {
   "cell_type": "markdown",
   "id": "8dd9d280-6395-45d5-8a9a-6e919d77567f",
   "metadata": {},
   "source": [
    "$$\n",
    "\\bar{x} = \\frac{x_1 + x_2 + ... + x_n}{n} = \\frac{1}{n} \\left( \\sum^n_{i=1} x_i \\right)\n",
    "$$"
   ]
  }
 ],
 "metadata": {
  "kernelspec": {
   "display_name": "Python 3 (ipykernel)",
   "language": "python",
   "name": "python3"
  },
  "language_info": {
   "codemirror_mode": {
    "name": "ipython",
    "version": 3
   },
   "file_extension": ".py",
   "mimetype": "text/x-python",
   "name": "python",
   "nbconvert_exporter": "python",
   "pygments_lexer": "ipython3",
   "version": "3.11.5"
  }
 },
 "nbformat": 4,
 "nbformat_minor": 5
}
